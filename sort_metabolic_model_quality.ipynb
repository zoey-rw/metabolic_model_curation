{
 "cells": [
  {
   "cell_type": "markdown",
   "id": "aeda2042",
   "metadata": {},
   "source": [
    "Evaluate metabolic models and identify the best candidates for additional improvement\n",
    "\n",
    "Red flags:\n",
    "- \"Unrealistic Growth Rate In Default Medium\" - does it grow faster than any known bacteria??\n",
    "- % genes annotated, confidence, etc?\n",
    "- add to this list and prioritize/triage"
   ]
  },
  {
   "cell_type": "markdown",
   "id": "b02f8f7e",
   "metadata": {},
   "source": [
    "# this is R code not python!!"
   ]
  },
  {
   "cell_type": "code",
   "execution_count": 3,
   "id": "86c78a61",
   "metadata": {},
   "outputs": [
    {
     "name": "stdout",
     "output_type": "stream",
     "text": [
      "\r\n",
      "Please first load the R module with the following command:\r\n",
      "\r\n",
      "> module load R\r\n",
      "\r\n",
      "and then invoke R with:\r\n",
      "\r\n",
      "> R [argument1 ...]\r\n",
      "\r\n"
     ]
    }
   ],
   "source": [
    "!module load R\n",
    "!R"
   ]
  },
  {
   "cell_type": "code",
   "execution_count": 4,
   "id": "ad36de57",
   "metadata": {},
   "outputs": [
    {
     "ename": "SyntaxError",
     "evalue": "invalid syntax (<ipython-input-4-ce4c24f56ea9>, line 5)",
     "output_type": "error",
     "traceback": [
      "\u001b[0;36m  File \u001b[0;32m\"<ipython-input-4-ce4c24f56ea9>\"\u001b[0;36m, line \u001b[0;32m5\u001b[0m\n\u001b[0;31m    mod1 <- jsonlite::read_json(\"/projectnb2/talbot-lab-data/jlopezna/second_metaGEM/memote_old/HARV_035-O-20180709-COMP-DNA1_bin.6.p/HARV_035-O-20180709-COMP-DNA1_bin.6.p.json.gz\")\u001b[0m\n\u001b[0m                     ^\u001b[0m\n\u001b[0;31mSyntaxError\u001b[0m\u001b[0;31m:\u001b[0m invalid syntax\n"
     ]
    }
   ],
   "source": [
    "## Read in memote output and find models that pass for biomass and/or stoichiometric consistency\n",
    "\n",
    "library(jsonlite)\n",
    "\n",
    "mod1 <- jsonlite::read_json(\"/projectnb2/talbot-lab-data/jlopezna/second_metaGEM/memote_old/HARV_035-O-20180709-COMP-DNA1_bin.6.p/HARV_035-O-20180709-COMP-DNA1_bin.6.p.json.gz\")\n",
    "\n",
    "mods <- list.files(\"/projectnb2/talbot-lab-data/jlopezna/second_metaGEM/memote_old\", recursive = T, pattern = \"json\", full.names = T)\n",
    "out <- list()\n",
    "for (i in 1:length(mods)) {\n",
    "\tmod <- jsonlite::read_json(mods[[i]])\n",
    "\tres1 <- mod$tests$test_biomass_consistency$result$Growth\n",
    "\tres2 <- mod$tests$test_stoichiometric_consistency$result\n",
    "\tout[[i]] <- cbind.data.frame(model = basename(mods[[i]]), \n",
    "\t\t\t\t\t\t\t\t\t\t\t\t\t\t\t test_biomass_consistency = res1, \n",
    "\t\t\t\t\t\t\t\t\t\t\t\t\t\t\t test_stoichiometric_consistency = res2)\n",
    "}\n",
    "all_res <- data.table::rbindlist(out)\n",
    "\n",
    "decent_res <- all_res[which(test_stoichiometric_consistency == \"passed\"),]$model\n",
    "head(decent_res)\n",
    "\n",
    "##### copy over the decent models, for example\n",
    "##### cp /projectnb2/talbot-lab-data/jlopezna/second_metaGEM/GEMs/HARV_034-O-20180709-COMP-DNA1/HARV_034-O-20180709-COMP-DNA1_bin.1.o.xml \n"
   ]
  }
 ],
 "metadata": {
  "kernelspec": {
   "display_name": "metagem_custom",
   "language": "python",
   "name": "metagem_custom"
  },
  "language_info": {
   "codemirror_mode": {
    "name": "ipython",
    "version": 3
   },
   "file_extension": ".py",
   "mimetype": "text/x-python",
   "name": "python",
   "nbconvert_exporter": "python",
   "pygments_lexer": "ipython3",
   "version": "3.6.10"
  }
 },
 "nbformat": 4,
 "nbformat_minor": 5
}
