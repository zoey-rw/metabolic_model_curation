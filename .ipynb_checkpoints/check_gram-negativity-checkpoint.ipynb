{
 "cells": [
  {
   "cell_type": "markdown",
   "id": "60499576",
   "metadata": {},
   "source": [
    "# check that reactions are consistent with gram-positivity or gram-negativity"
   ]
  },
  {
   "cell_type": "markdown",
   "id": "43091254",
   "metadata": {},
   "source": [
    "## Supplemental info from AGORA2 paper\n",
    "### Curation of biomass objective functions\n",
    "\n",
    "Gram-positive and -negative bacteria differ in their cell wall structure10. Gram-positive bacteria possess a thick layer of teichoic acid and an inner but no outer membrane, while gram-negative bacteria have an inner and an outer membrane separated by a large periplasmatic space with the outer membrane carrying lipopolysaccharides (LPS)10. As exceptions, the Deinococcus-Thermus phylum has on outer membrane, but does not have LPS11, certain Firmicutes, such as Acidaminobacter and Gracilibacter sp. stain gram-negative, but have a gram-positive cell wall structure10, 12, and the Chloroflexi phylum stains gram- negative, but has no LPS and no outer membrane10. Moreover, the Tenericutes phylum does not possess a cell wall10 and archaea have ether lipids in their membranes instead of the bacterial ester lipids10. When inspecting the biomass objective functions (BOFs) in the draft reconstructions, it was found that 32% of reconstructions of gram-positive organisms had gram-negative components in their BOF or vice versa. Moreover, 35 Tenericutes and seven Archaea draft reconstructions incorrectly had standard bacterial cell wall components in their BOFs. To correct this, all BOFs were checked based on the respective organisms’ gram status and corrected by removing incorrect metabolites and add teichoic acid or LPS, as appropriate. For gram-negative organisms with an outer membrane, a periplasmatic compartment was added. The exceptions listed above were taken into account. An archaeal BOF was formulated by retrieved ether lipid structures and the corresponding biosynthesis reactions from the reconstruction of Methanosarcina barkeri13. Gap-filling reactions enabling cell wall component production were also added to the corresponding reconstructions, if necessary.\""
   ]
  },
  {
   "cell_type": "code",
   "execution_count": 2,
   "id": "d7799a33",
   "metadata": {},
   "outputs": [],
   "source": [
    "# read in model"
   ]
  },
  {
   "cell_type": "code",
   "execution_count": 3,
   "id": "5e6115a6",
   "metadata": {},
   "outputs": [],
   "source": [
    "# input: model biomass reaction\n",
    "# output: gram-negative or gram-positive status of each component"
   ]
  },
  {
   "cell_type": "code",
   "execution_count": 4,
   "id": "22eca317",
   "metadata": {},
   "outputs": [],
   "source": [
    "# input: gram-negative or gram-positive status of each component\n",
    "# input: actual organism trait\n",
    "\n",
    "# get gram-positive or gram-negative counterpart\n",
    "\n",
    "# output: corrected components "
   ]
  },
  {
   "cell_type": "code",
   "execution_count": 5,
   "id": "d1fb403d",
   "metadata": {},
   "outputs": [],
   "source": [
    "# save corrected model"
   ]
  },
  {
   "cell_type": "code",
   "execution_count": null,
   "id": "c0378eb9",
   "metadata": {},
   "outputs": [],
   "source": []
  },
  {
   "cell_type": "code",
   "execution_count": null,
   "id": "e6b87872",
   "metadata": {},
   "outputs": [],
   "source": []
  }
 ],
 "metadata": {
  "kernelspec": {
   "display_name": "metagem_custom",
   "language": "python",
   "name": "metagem_custom"
  },
  "language_info": {
   "codemirror_mode": {
    "name": "ipython",
    "version": 3
   },
   "file_extension": ".py",
   "mimetype": "text/x-python",
   "name": "python",
   "nbconvert_exporter": "python",
   "pygments_lexer": "ipython3",
   "version": "3.6.10"
  }
 },
 "nbformat": 4,
 "nbformat_minor": 5
}
