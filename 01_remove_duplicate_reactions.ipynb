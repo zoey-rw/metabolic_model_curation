{
 "cells": [
  {
   "cell_type": "markdown",
   "id": "b172a9ba",
   "metadata": {},
   "source": [
    "# Remove duplicate reactions"
   ]
  },
  {
   "cell_type": "code",
   "execution_count": 1,
   "id": "eca11557",
   "metadata": {},
   "outputs": [],
   "source": [
    "import cobra\n",
    "import os\n",
    "import numpy as np\n",
    "import pandas as pd\n",
    "from IPython.core.interactiveshell import InteractiveShell\n",
    "InteractiveShell.ast_node_interactivity = \"all\"\n",
    "from __future__ import absolute_import, division\n",
    "import memote.support.basic as basic\n",
    "import memote.support.helpers as helpers\n",
    "from cobra.io import read_sbml_model, write_sbml_model"
   ]
  },
  {
   "cell_type": "code",
   "execution_count": null,
   "id": "33d721ea",
   "metadata": {},
   "outputs": [],
   "source": [
    "model_in = cobra.io.read_sbml_model('/projectnb2/talbot-lab-data/metabolic_models/genomes/solibacter/solibacter.xml')"
   ]
  },
  {
   "cell_type": "code",
   "execution_count": null,
   "id": "4700b31d",
   "metadata": {},
   "outputs": [],
   "source": [
    "basic.find_duplicate_reactions(model_in) # just to look at list\n",
    "duplicated = basic.find_duplicate_reactions(model_in) # save to variable\n",
    "duplicated = duplicated[0] # get first element (list of reactions)\n",
    "to_remove = [x[1] for x in duplicated] # get only the second reaction\n",
    "model_in.remove_reactions(to_remove) # remove those!\n",
    "#write_sbml_model(model_in, \"solibacter2.xml\")"
   ]
  },
  {
   "cell_type": "markdown",
   "id": "6c114cb0",
   "metadata": {},
   "source": [
    "how to address annotations (and \"Partially Identical Annotations\")?"
   ]
  },
  {
   "cell_type": "code",
   "execution_count": null,
   "id": "d601374b",
   "metadata": {},
   "outputs": [],
   "source": []
  }
 ],
 "metadata": {
  "kernelspec": {
   "display_name": "metagem_custom",
   "language": "python",
   "name": "metagem_custom"
  },
  "language_info": {
   "codemirror_mode": {
    "name": "ipython",
    "version": 3
   },
   "file_extension": ".py",
   "mimetype": "text/x-python",
   "name": "python",
   "nbconvert_exporter": "python",
   "pygments_lexer": "ipython3",
   "version": "3.6.10"
  }
 },
 "nbformat": 4,
 "nbformat_minor": 5
}
