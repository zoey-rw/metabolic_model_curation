{
 "cells": [
  {
   "cell_type": "markdown",
   "id": "2b444e09",
   "metadata": {},
   "source": [
    "# Parse soil metagenome & genome stats "
   ]
  },
  {
   "cell_type": "markdown",
   "id": "2c17c0fb",
   "metadata": {},
   "source": [
    "## Read in metaGEM output\n",
    "\n",
    "### MAG abundances\n",
    "Relative abundances of each genome from each sample\n",
    "\n",
    "### SMETANA estimates \n",
    "Interactions between taxa\n",
    "\n",
    "### Functional gene counts\n",
    "BLASTp from NCyc and CARD (already summarized in R script)\n",
    "\n",
    "### GUNC (genome quality)\n",
    "\n",
    "### GRiD (growth rate) estimates"
   ]
  },
  {
   "cell_type": "code",
   "execution_count": 1,
   "id": "f1c30b0e",
   "metadata": {},
   "outputs": [
    {
     "data": {
      "text/plain": [
       "'/projectnb2/talbot-lab-data/zrwerbin/metagenomics/metaGEM/'"
      ]
     },
     "execution_count": 1,
     "metadata": {},
     "output_type": "execute_result"
    }
   ],
   "source": [
    "\"/projectnb2/talbot-lab-data/zrwerbin/metagenomics/metaGEM/\""
   ]
  },
  {
   "cell_type": "code",
   "execution_count": null,
   "id": "556d1c04",
   "metadata": {},
   "outputs": [],
   "source": []
  }
 ],
 "metadata": {
  "kernelspec": {
   "display_name": "metagem_custom",
   "language": "python",
   "name": "metagem_custom"
  },
  "language_info": {
   "codemirror_mode": {
    "name": "ipython",
    "version": 3
   },
   "file_extension": ".py",
   "mimetype": "text/x-python",
   "name": "python",
   "nbconvert_exporter": "python",
   "pygments_lexer": "ipython3",
   "version": "3.6.10"
  }
 },
 "nbformat": 4,
 "nbformat_minor": 5
}
