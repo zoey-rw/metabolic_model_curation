{
 "cells": [
  {
   "cell_type": "markdown",
   "id": "36034d91",
   "metadata": {},
   "source": [
    "# check that no biomass precursors are blocked or missing"
   ]
  },
  {
   "cell_type": "markdown",
   "id": "a460b44f",
   "metadata": {},
   "source": [
    "example scripts:\n",
    "\n",
    "biomass section: https://github.com/ChristianLieven/memote-m-capsulatus/blob/master/ComplementaryScripts/12.%20ApplyMemoteDrivenCuration.ipynb\n",
    "\n",
    "adding exchange reactions: https://github.com/SysBioChalmers/Salb-GEM/blob/master/ComplementaryScripts/reconstruction/r2_addExchangePseudoRxns.m"
   ]
  },
  {
   "cell_type": "code",
   "execution_count": null,
   "id": "45450d57",
   "metadata": {},
   "outputs": [],
   "source": []
  },
  {
   "cell_type": "markdown",
   "id": "f443b576",
   "metadata": {},
   "source": [
    "https://www.frontiersin.org/articles/10.3389/fmicb.2021.750206/full section 3.1:\n",
    "\n",
    "The biomass objective function (BOF) created by CarveMe was refined in several steps to obtain realistic growth rates for the tested media. With the help of BOFdat and the nucleotide sequence of C. glutamicum ATCC 13032, the stoichiometric coefficients of the DNA nucleotides were adapted. The following seven metabolites were added as coenzymes and inorganic ions to the biomass objective function: NADH, NADPH, adenosine monophosphate (AMP), pyruvate, ammonium, sodium, and nickel. The stoichiometric coefficients of 16 further coenzymes and inorganic ions were adapted using BOFdat. The inorganic ion cobalt was removed from the BOF based on the elemental composition of C. glutamicum ATCC 13032 cells, as described by Eggeling and Bott (2005, p.16, 18). After including these changes, the simulated biomass production is in the range of a reasonable growth rate with no blocked biomass precursors in both the default and the complete medium."
   ]
  },
  {
   "cell_type": "code",
   "execution_count": null,
   "id": "722e7c5c",
   "metadata": {},
   "outputs": [],
   "source": []
  }
 ],
 "metadata": {
  "kernelspec": {
   "display_name": "metagem_custom",
   "language": "python",
   "name": "metagem_custom"
  },
  "language_info": {
   "codemirror_mode": {
    "name": "ipython",
    "version": 3
   },
   "file_extension": ".py",
   "mimetype": "text/x-python",
   "name": "python",
   "nbconvert_exporter": "python",
   "pygments_lexer": "ipython3",
   "version": "3.6.10"
  }
 },
 "nbformat": 4,
 "nbformat_minor": 5
}
