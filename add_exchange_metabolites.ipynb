{
 "cells": [
  {
   "cell_type": "code",
   "execution_count": null,
   "id": "2344be57",
   "metadata": {},
   "outputs": [],
   "source": [
    "https://github.com/ChristianLieven/memote-m-capsulatus/blob/master/ComplementaryScripts/11.%20Metabolic%20Map.ipynb"
   ]
  },
  {
   "cell_type": "code",
   "execution_count": null,
   "id": "a4643823",
   "metadata": {},
   "outputs": [],
   "source": [
    "n2_e = model.metabolites.n2_c.copy()\n",
    "n2_e.compartment = 'e'\n",
    "n2_e.id = 'n2_e'\n",
    "model.add_metabolite(n2_e)"
   ]
  },
  {
   "cell_type": "code",
   "execution_count": null,
   "id": "2c1d4c04",
   "metadata": {},
   "outputs": [],
   "source": [
    "rxn = Reaction('EX_n2_e')\n",
    "rxn.add_metabolites({model.metabolites.n2_e:-1})\n",
    "rxn.name = 'N2 exchange'\n",
    "rxn.id = 'EX_n2_e'\n",
    "rxn.annotation = {u'metanetx.reaction': u'MNXR3686'}\n",
    "\n",
    "model.add_reaction(rxn)"
   ]
  }
 ],
 "metadata": {
  "kernelspec": {
   "display_name": "metagem_custom",
   "language": "python",
   "name": "metagem_custom"
  },
  "language_info": {
   "codemirror_mode": {
    "name": "ipython",
    "version": 3
   },
   "file_extension": ".py",
   "mimetype": "text/x-python",
   "name": "python",
   "nbconvert_exporter": "python",
   "pygments_lexer": "ipython3",
   "version": "3.6.10"
  }
 },
 "nbformat": 4,
 "nbformat_minor": 5
}
