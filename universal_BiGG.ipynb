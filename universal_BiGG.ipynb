{
 "cells": [
  {
   "cell_type": "markdown",
   "id": "a1b52273",
   "metadata": {},
   "source": [
    "# Get universal BiGG model for metabolites and reactions\n",
    "\n",
    "Reading BiGG universal model requires older version of cobra (https://github.com/opencobra/cobrapy/issues/1123)\n",
    "\n",
    "Currently, saving the models as SBML still does not work\n",
    "\n",
    "Intended to use this universal model to fill in missing charges, but all metabolites seem to have no charges here, possibly an error with how things were read in?"
   ]
  },
  {
   "cell_type": "code",
   "execution_count": 11,
   "id": "e0314405",
   "metadata": {},
   "outputs": [],
   "source": [
    "# get model\n",
    "# !{sys.executable} wget http://bigg.ucsd.edu/static/namespace/universal_model.json"
   ]
  },
  {
   "cell_type": "code",
   "execution_count": 12,
   "id": "832372a5",
   "metadata": {
    "scrolled": true
   },
   "outputs": [
    {
     "name": "stdout",
     "output_type": "stream",
     "text": [
      "Defaulting to user installation because normal site-packages is not writeable\n",
      "\u001b[33mWARNING: Ignoring invalid distribution -ython-libsbml-experimental (/usr3/graduate/zrwerbin/.local/lib/python3.8/site-packages)\u001b[0m\n",
      "\u001b[33mWARNING: Ignoring invalid distribution -ython-libsbml-experimental (/usr3/graduate/zrwerbin/.local/lib/python3.8/site-packages)\u001b[0m\n",
      "Collecting cobra==0.17.1\n",
      "  Downloading cobra-0.17.1-py2.py3-none-any.whl (1.9 MB)\n",
      "\u001b[K     |████████████████████████████████| 1.9 MB 7.1 MB/s eta 0:00:01\n",
      "\u001b[?25hRequirement already satisfied: six in /share/pkg.7/python3/3.8.10/install/lib/python3.8/site-packages (from cobra==0.17.1) (1.15.0)\n",
      "Requirement already satisfied: pandas>=0.17.0 in /share/pkg.7/python3/3.8.10/install/lib/python3.8/site-packages (from cobra==0.17.1) (1.2.4)\n",
      "Requirement already satisfied: swiglpk in /usr3/graduate/zrwerbin/.local/lib/python3.8/site-packages (from cobra==0.17.1) (5.0.3)\n",
      "Requirement already satisfied: ruamel.yaml>=0.16 in /usr3/graduate/zrwerbin/.local/lib/python3.8/site-packages (from cobra==0.17.1) (0.17.16)\n",
      "Requirement already satisfied: optlang>=1.4.2 in /usr3/graduate/zrwerbin/.local/lib/python3.8/site-packages (from cobra==0.17.1) (1.5.2)\n",
      "Requirement already satisfied: future in /share/pkg.7/python3/3.8.10/install/lib/python3.8/site-packages (from cobra==0.17.1) (0.18.2)\n",
      "Requirement already satisfied: numpy>=1.13 in /share/pkg.7/python3/3.8.10/install/lib/python3.8/site-packages/numpy-1.19.5-py3.8-linux-x86_64.egg (from cobra==0.17.1) (1.19.5)\n",
      "Requirement already satisfied: python-libsbml-experimental==5.18.0 in /usr3/graduate/zrwerbin/.local/lib/python3.8/site-packages (from cobra==0.17.1) (5.18.0)\n",
      "Requirement already satisfied: depinfo in /usr3/graduate/zrwerbin/.local/lib/python3.8/site-packages (from cobra==0.17.1) (1.7.0)\n",
      "Requirement already satisfied: sympy>=1.0 in /share/pkg.7/python3/3.8.10/install/lib/python3.8/site-packages (from optlang>=1.4.2->cobra==0.17.1) (1.8)\n",
      "Requirement already satisfied: python-dateutil>=2.7.3 in /share/pkg.7/python3/3.8.10/install/lib/python3.8/site-packages (from pandas>=0.17.0->cobra==0.17.1) (2.8.1)\n",
      "Requirement already satisfied: pytz>=2017.3 in /share/pkg.7/python3/3.8.10/install/lib/python3.8/site-packages (from pandas>=0.17.0->cobra==0.17.1) (2021.1)\n",
      "Requirement already satisfied: ruamel.yaml.clib>=0.1.2 in /usr3/graduate/zrwerbin/.local/lib/python3.8/site-packages (from ruamel.yaml>=0.16->cobra==0.17.1) (0.2.6)\n",
      "Requirement already satisfied: mpmath>=0.19 in /share/pkg.7/python3/3.8.10/install/lib/python3.8/site-packages (from sympy>=1.0->optlang>=1.4.2->cobra==0.17.1) (1.2.1)\n",
      "\u001b[33mWARNING: Ignoring invalid distribution -ython-libsbml-experimental (/usr3/graduate/zrwerbin/.local/lib/python3.8/site-packages)\u001b[0m\n",
      "Installing collected packages: cobra\n",
      "  Attempting uninstall: cobra\n",
      "\u001b[33m    WARNING: Ignoring invalid distribution -ython-libsbml-experimental (/usr3/graduate/zrwerbin/.local/lib/python3.8/site-packages)\u001b[0m\n",
      "    Found existing installation: cobra 0.15.0\n",
      "    Uninstalling cobra-0.15.0:\n",
      "      Successfully uninstalled cobra-0.15.0\n",
      "\u001b[33mWARNING: Ignoring invalid distribution -ython-libsbml-experimental (/usr3/graduate/zrwerbin/.local/lib/python3.8/site-packages)\u001b[0m\n",
      "Successfully installed cobra-0.17.1\n",
      "\u001b[33mWARNING: Ignoring invalid distribution -ython-libsbml-experimental (/usr3/graduate/zrwerbin/.local/lib/python3.8/site-packages)\u001b[0m\n",
      "\u001b[33mWARNING: Ignoring invalid distribution -ython-libsbml-experimental (/usr3/graduate/zrwerbin/.local/lib/python3.8/site-packages)\u001b[0m\n",
      "\u001b[33mWARNING: Ignoring invalid distribution -ython-libsbml-experimental (/usr3/graduate/zrwerbin/.local/lib/python3.8/site-packages)\u001b[0m\n",
      "\u001b[33mWARNING: You are using pip version 21.1.1; however, version 22.0.4 is available.\n",
      "You should consider upgrading via the '/share/pkg.7/python3/3.8.10/install/bin/python3.8 -m pip install --upgrade pip' command.\u001b[0m\n"
     ]
    }
   ],
   "source": [
    "import os\n",
    "import sys\n",
    "\n",
    "os.environ['PATH'] = '/projectnb/talbot-lab-data/metabolic_models/scripts/metaGEM/:/projectnb2/talbot-lab-data/zrwerbin/venvs/comets/bin:/share/pkg.7/gurobi/9.1.1/install/bin:/share/pkg.7/python3/3.8.10/install/bin:/share/pkg.7/java/12.0.1/install/bin:/usr/java/default/jre/bin:/usr/java/default/bin:/usr/lib64/qt-3.3/bin:/usr/local/bin:/usr/bin:/usr/local/sbin:/usr/sbin:/sbin:/opt/dell/srvadmin/bin:/bin:/projectnb2/talbot-lab-data/zrwerbin/interactions/comets_2.10.5_linux:/usr3/graduate/shall16/.local/bin'\n",
    "\n",
    "!{sys.executable} -m pip install cobra==0.17.1 # install older version of cobrapy"
   ]
  },
  {
   "cell_type": "code",
   "execution_count": 1,
   "id": "b3f848cb",
   "metadata": {},
   "outputs": [
    {
     "name": "stdout",
     "output_type": "stream",
     "text": [
      "Using license file /usr/local/gurobi/gurobi.lic\n",
      "Set parameter TokenServer to value sccsvc\n"
     ]
    }
   ],
   "source": [
    "import cobra\n",
    "univ_bigg = cobra.io.load_json_model('/projectnb2/talbot-lab-data/metabolic_models/scripts/metabolic_model_curation/reference_data/universal_model.json')"
   ]
  },
  {
   "cell_type": "code",
   "execution_count": 2,
   "id": "f9b5a6f1",
   "metadata": {},
   "outputs": [],
   "source": [
    "for reaction in univ_bigg.reactions: \n",
    "    reaction.annotation = {}\n",
    "#cobra.io.write_sbml_model(univ_bigg, '/projectnb2/talbot-lab-data/metabolic_models/scripts/metabolic_model_curation/reference_data/universal_model.sbml')\n",
    "#cobra.io.save_json_model(univ_bigg, '/projectnb2/talbot-lab-data/metabolic_models/scripts/metabolic_model_curation/reference_data/universal_model2.json')"
   ]
  },
  {
   "cell_type": "markdown",
   "id": "006bc615",
   "metadata": {},
   "source": [
    "Checking universal model for charges of a certain metabolite. Charge should be -1 according to online listing: http://bigg.ucsd.edu/universal/metabolites/2agpg161"
   ]
  },
  {
   "cell_type": "code",
   "execution_count": 3,
   "id": "19de390a",
   "metadata": {},
   "outputs": [
    {
     "ename": "AttributeError",
     "evalue": "'list' object has no attribute 'items'",
     "output_type": "error",
     "traceback": [
      "\u001b[0;31m---------------------------------------------------------------------------\u001b[0m",
      "\u001b[0;31mAttributeError\u001b[0m                            Traceback (most recent call last)",
      "\u001b[0;32m<ipython-input-3-203b72bc7c23>\u001b[0m in \u001b[0;36m<module>\u001b[0;34m\u001b[0m\n\u001b[0;32m----> 1\u001b[0;31m \u001b[0mcobra\u001b[0m\u001b[0;34m.\u001b[0m\u001b[0mio\u001b[0m\u001b[0;34m.\u001b[0m\u001b[0mwrite_sbml_model\u001b[0m\u001b[0;34m(\u001b[0m\u001b[0muniv_bigg\u001b[0m\u001b[0;34m,\u001b[0m \u001b[0;34m'/projectnb2/talbot-lab-data/metabolic_models/scripts/metabolic_model_curation/reference_data/universal_model.sbml'\u001b[0m\u001b[0;34m)\u001b[0m\u001b[0;34m\u001b[0m\u001b[0;34m\u001b[0m\u001b[0m\n\u001b[0m",
      "\u001b[0;32m~/.local/lib/python3.8/site-packages/cobra/io/sbml.py\u001b[0m in \u001b[0;36mwrite_sbml_model\u001b[0;34m(cobra_model, filename, f_replace, **kwargs)\u001b[0m\n\u001b[1;32m    886\u001b[0m     \u001b[0mf_replace\u001b[0m\u001b[0;34m:\u001b[0m \u001b[0mdict\u001b[0m \u001b[0mof\u001b[0m \u001b[0mreplacement\u001b[0m \u001b[0mfunctions\u001b[0m \u001b[0;32mfor\u001b[0m \u001b[0mid\u001b[0m \u001b[0mreplacement\u001b[0m\u001b[0;34m\u001b[0m\u001b[0;34m\u001b[0m\u001b[0m\n\u001b[1;32m    887\u001b[0m     \"\"\"\n\u001b[0;32m--> 888\u001b[0;31m     \u001b[0mdoc\u001b[0m \u001b[0;34m=\u001b[0m \u001b[0m_model_to_sbml\u001b[0m\u001b[0;34m(\u001b[0m\u001b[0mcobra_model\u001b[0m\u001b[0;34m,\u001b[0m \u001b[0mf_replace\u001b[0m\u001b[0;34m=\u001b[0m\u001b[0mf_replace\u001b[0m\u001b[0;34m,\u001b[0m \u001b[0;34m**\u001b[0m\u001b[0mkwargs\u001b[0m\u001b[0;34m)\u001b[0m\u001b[0;34m\u001b[0m\u001b[0;34m\u001b[0m\u001b[0m\n\u001b[0m\u001b[1;32m    889\u001b[0m \u001b[0;34m\u001b[0m\u001b[0m\n\u001b[1;32m    890\u001b[0m     \u001b[0;32mif\u001b[0m \u001b[0misinstance\u001b[0m\u001b[0;34m(\u001b[0m\u001b[0mfilename\u001b[0m\u001b[0;34m,\u001b[0m \u001b[0mstring_types\u001b[0m\u001b[0;34m)\u001b[0m\u001b[0;34m:\u001b[0m\u001b[0;34m\u001b[0m\u001b[0;34m\u001b[0m\u001b[0m\n",
      "\u001b[0;32m~/.local/lib/python3.8/site-packages/cobra/io/sbml.py\u001b[0m in \u001b[0;36m_model_to_sbml\u001b[0;34m(cobra_model, f_replace, units)\u001b[0m\n\u001b[1;32m   1036\u001b[0m             \u001b[0ms_fbc\u001b[0m\u001b[0;34m.\u001b[0m\u001b[0msetChemicalFormula\u001b[0m\u001b[0;34m(\u001b[0m\u001b[0mmetabolite\u001b[0m\u001b[0;34m.\u001b[0m\u001b[0mformula\u001b[0m\u001b[0;34m)\u001b[0m\u001b[0;34m\u001b[0m\u001b[0;34m\u001b[0m\u001b[0m\n\u001b[1;32m   1037\u001b[0m \u001b[0;34m\u001b[0m\u001b[0m\n\u001b[0;32m-> 1038\u001b[0;31m         \u001b[0m_sbase_annotations\u001b[0m\u001b[0;34m(\u001b[0m\u001b[0mspecie\u001b[0m\u001b[0;34m,\u001b[0m \u001b[0mmetabolite\u001b[0m\u001b[0;34m.\u001b[0m\u001b[0mannotation\u001b[0m\u001b[0;34m)\u001b[0m\u001b[0;34m\u001b[0m\u001b[0;34m\u001b[0m\u001b[0m\n\u001b[0m\u001b[1;32m   1039\u001b[0m         \u001b[0m_sbase_notes_dict\u001b[0m\u001b[0;34m(\u001b[0m\u001b[0mspecie\u001b[0m\u001b[0;34m,\u001b[0m \u001b[0mmetabolite\u001b[0m\u001b[0;34m.\u001b[0m\u001b[0mnotes\u001b[0m\u001b[0;34m)\u001b[0m\u001b[0;34m\u001b[0m\u001b[0;34m\u001b[0m\u001b[0m\n\u001b[1;32m   1040\u001b[0m \u001b[0;34m\u001b[0m\u001b[0m\n",
      "\u001b[0;32m~/.local/lib/python3.8/site-packages/cobra/io/sbml.py\u001b[0m in \u001b[0;36m_sbase_annotations\u001b[0;34m(sbase, annotation)\u001b[0m\n\u001b[1;32m   1491\u001b[0m     \u001b[0mannotation_data\u001b[0m \u001b[0;34m=\u001b[0m \u001b[0mdeepcopy\u001b[0m\u001b[0;34m(\u001b[0m\u001b[0mannotation\u001b[0m\u001b[0;34m)\u001b[0m\u001b[0;34m\u001b[0m\u001b[0;34m\u001b[0m\u001b[0m\n\u001b[1;32m   1492\u001b[0m \u001b[0;34m\u001b[0m\u001b[0m\n\u001b[0;32m-> 1493\u001b[0;31m     \u001b[0;32mfor\u001b[0m \u001b[0mkey\u001b[0m\u001b[0;34m,\u001b[0m \u001b[0mvalue\u001b[0m \u001b[0;32min\u001b[0m \u001b[0mannotation_data\u001b[0m\u001b[0;34m.\u001b[0m\u001b[0mitems\u001b[0m\u001b[0;34m(\u001b[0m\u001b[0;34m)\u001b[0m\u001b[0;34m:\u001b[0m\u001b[0;34m\u001b[0m\u001b[0;34m\u001b[0m\u001b[0m\n\u001b[0m\u001b[1;32m   1494\u001b[0m         \u001b[0;31m# handling of non-string annotations (e.g. integers)\u001b[0m\u001b[0;34m\u001b[0m\u001b[0;34m\u001b[0m\u001b[0;34m\u001b[0m\u001b[0m\n\u001b[1;32m   1495\u001b[0m         \u001b[0;32mif\u001b[0m \u001b[0misinstance\u001b[0m\u001b[0;34m(\u001b[0m\u001b[0mvalue\u001b[0m\u001b[0;34m,\u001b[0m \u001b[0;34m(\u001b[0m\u001b[0mfloat\u001b[0m\u001b[0;34m,\u001b[0m \u001b[0mint\u001b[0m\u001b[0;34m)\u001b[0m\u001b[0;34m)\u001b[0m\u001b[0;34m:\u001b[0m\u001b[0;34m\u001b[0m\u001b[0;34m\u001b[0m\u001b[0m\n",
      "\u001b[0;31mAttributeError\u001b[0m: 'list' object has no attribute 'items'"
     ]
    }
   ],
   "source": [
    "cobra.io.write_sbml_model(univ_bigg, '/projectnb2/talbot-lab-data/metabolic_models/scripts/metabolic_model_curation/reference_data/universal_model.sbml')"
   ]
  },
  {
   "cell_type": "code",
   "execution_count": 36,
   "id": "5cec206b",
   "metadata": {},
   "outputs": [
    {
     "name": "stdout",
     "output_type": "stream",
     "text": [
      "2agpg161_c\n",
      "None\n",
      "amp_c\n",
      "None\n",
      "atp_c\n",
      "None\n",
      "hdcea_c\n",
      "None\n",
      "pg161_c\n",
      "None\n",
      "ppi_c\n",
      "None\n"
     ]
    }
   ],
   "source": [
    "from six import iteritems, itervalues\n",
    "\n",
    "univ_bigg.metabolites.get_by_id(\"2agpg161_c\")\n",
    "\n",
    "rxn = univ_bigg.reactions.get_by_id(\"2AGPGAT161\")\n",
    "rxn.check_mass_balance()\n",
    "charge = 0\n",
    "for metabolite, coefficient in iteritems(rxn.metabolites):\n",
    "    print(metabolite)\n",
    "    print(metabolite.charge)\n",
    "#    print(coefficient)\n",
    "#    charge += coefficient * metabolite.charge\n",
    "#    print(charge)"
   ]
  },
  {
   "cell_type": "markdown",
   "id": "fccac715",
   "metadata": {},
   "source": [
    "### Another approach to loading/saving?"
   ]
  },
  {
   "cell_type": "code",
   "execution_count": 16,
   "id": "19c687f7",
   "metadata": {},
   "outputs": [
    {
     "ename": "AttributeError",
     "evalue": "'list' object has no attribute 'items'",
     "output_type": "error",
     "traceback": [
      "\u001b[0;31m---------------------------------------------------------------------------\u001b[0m",
      "\u001b[0;31mAttributeError\u001b[0m                            Traceback (most recent call last)",
      "\u001b[0;32m<ipython-input-16-49d4759b12c1>\u001b[0m in \u001b[0;36m<module>\u001b[0;34m\u001b[0m\n\u001b[1;32m      9\u001b[0m \u001b[0;32mfor\u001b[0m \u001b[0mreaction\u001b[0m \u001b[0;32min\u001b[0m \u001b[0muniversal\u001b[0m\u001b[0;34m.\u001b[0m\u001b[0mreactions\u001b[0m\u001b[0;34m:\u001b[0m\u001b[0;34m\u001b[0m\u001b[0;34m\u001b[0m\u001b[0m\n\u001b[1;32m     10\u001b[0m     \u001b[0mreaction\u001b[0m\u001b[0;34m.\u001b[0m\u001b[0mannotation\u001b[0m \u001b[0;34m=\u001b[0m \u001b[0;34m{\u001b[0m\u001b[0;34m}\u001b[0m\u001b[0;34m\u001b[0m\u001b[0;34m\u001b[0m\u001b[0m\n\u001b[0;32m---> 11\u001b[0;31m \u001b[0mcobra\u001b[0m\u001b[0;34m.\u001b[0m\u001b[0mio\u001b[0m\u001b[0;34m.\u001b[0m\u001b[0mwrite_sbml_model\u001b[0m\u001b[0;34m(\u001b[0m\u001b[0muniversal\u001b[0m\u001b[0;34m,\u001b[0m \u001b[0;34m'/projectnb2/talbot-lab-data/metabolic_models/scripts/metabolic_model_curation/reference_data/universal_model.sbml'\u001b[0m\u001b[0;34m)\u001b[0m\u001b[0;34m\u001b[0m\u001b[0;34m\u001b[0m\u001b[0m\n\u001b[0m",
      "\u001b[0;32m~/.local/lib/python3.8/site-packages/cobra/io/sbml.py\u001b[0m in \u001b[0;36mwrite_sbml_model\u001b[0;34m(cobra_model, filename, f_replace, **kwargs)\u001b[0m\n\u001b[1;32m    798\u001b[0m                     \u001b[0mobj\u001b[0m \u001b[0;34m=\u001b[0m \u001b[0mmetaid_map\u001b[0m\u001b[0;34m[\u001b[0m\u001b[0mmember\u001b[0m\u001b[0;34m.\u001b[0m\u001b[0mgetMetaIdRef\u001b[0m\u001b[0;34m(\u001b[0m\u001b[0;34m)\u001b[0m\u001b[0;34m]\u001b[0m\u001b[0;34m\u001b[0m\u001b[0;34m\u001b[0m\u001b[0m\n\u001b[1;32m    799\u001b[0m \u001b[0;34m\u001b[0m\u001b[0m\n\u001b[0;32m--> 800\u001b[0;31m                 \u001b[0mtypecode\u001b[0m \u001b[0;34m=\u001b[0m \u001b[0mobj\u001b[0m\u001b[0;34m.\u001b[0m\u001b[0mgetTypeCode\u001b[0m\u001b[0;34m(\u001b[0m\u001b[0;34m)\u001b[0m\u001b[0;34m\u001b[0m\u001b[0;34m\u001b[0m\u001b[0m\n\u001b[0m\u001b[1;32m    801\u001b[0m                 \u001b[0mobj_id\u001b[0m \u001b[0;34m=\u001b[0m \u001b[0m_check_required\u001b[0m\u001b[0;34m(\u001b[0m\u001b[0mobj\u001b[0m\u001b[0;34m,\u001b[0m \u001b[0mobj\u001b[0m\u001b[0;34m.\u001b[0m\u001b[0mgetIdAttribute\u001b[0m\u001b[0;34m(\u001b[0m\u001b[0;34m)\u001b[0m\u001b[0;34m,\u001b[0m \u001b[0;34m\"id\"\u001b[0m\u001b[0;34m)\u001b[0m\u001b[0;34m\u001b[0m\u001b[0;34m\u001b[0m\u001b[0m\n\u001b[1;32m    802\u001b[0m \u001b[0;34m\u001b[0m\u001b[0m\n",
      "\u001b[0;32m~/.local/lib/python3.8/site-packages/cobra/io/sbml.py\u001b[0m in \u001b[0;36m_model_to_sbml\u001b[0;34m(cobra_model, f_replace, units)\u001b[0m\n\u001b[1;32m    943\u001b[0m         \u001b[0;32mif\u001b[0m \u001b[0;34m\"annotation\"\u001b[0m \u001b[0;32min\u001b[0m \u001b[0mmeta\u001b[0m\u001b[0;34m:\u001b[0m\u001b[0;34m\u001b[0m\u001b[0;34m\u001b[0m\u001b[0m\n\u001b[1;32m    944\u001b[0m             \u001b[0m_sbase_annotations\u001b[0m\u001b[0;34m(\u001b[0m\u001b[0mdoc\u001b[0m\u001b[0;34m,\u001b[0m \u001b[0mmeta\u001b[0m\u001b[0;34m[\u001b[0m\u001b[0;34m\"annotation\"\u001b[0m\u001b[0;34m]\u001b[0m\u001b[0;34m)\u001b[0m\u001b[0;34m\u001b[0m\u001b[0;34m\u001b[0m\u001b[0m\n\u001b[0;32m--> 945\u001b[0;31m         \u001b[0;32mif\u001b[0m \u001b[0;34m\"notes\"\u001b[0m \u001b[0;32min\u001b[0m \u001b[0mmeta\u001b[0m\u001b[0;34m:\u001b[0m\u001b[0;34m\u001b[0m\u001b[0;34m\u001b[0m\u001b[0m\n\u001b[0m\u001b[1;32m    946\u001b[0m             \u001b[0m_sbase_notes_dict\u001b[0m\u001b[0;34m(\u001b[0m\u001b[0mdoc\u001b[0m\u001b[0;34m,\u001b[0m \u001b[0mmeta\u001b[0m\u001b[0;34m[\u001b[0m\u001b[0;34m\"notes\"\u001b[0m\u001b[0;34m]\u001b[0m\u001b[0;34m)\u001b[0m\u001b[0;34m\u001b[0m\u001b[0;34m\u001b[0m\u001b[0m\n\u001b[1;32m    947\u001b[0m \u001b[0;34m\u001b[0m\u001b[0m\n",
      "\u001b[0;32m~/.local/lib/python3.8/site-packages/cobra/io/sbml.py\u001b[0m in \u001b[0;36m_sbase_annotations\u001b[0;34m(sbase, annotation)\u001b[0m\n\u001b[1;32m   1336\u001b[0m                  \u001b[0;34m[\u001b[0m\u001b[0;34m\"<p>{}: {}</p>\"\u001b[0m\u001b[0;34m.\u001b[0m\u001b[0mformat\u001b[0m\u001b[0;34m(\u001b[0m\u001b[0mk\u001b[0m\u001b[0;34m,\u001b[0m \u001b[0mv\u001b[0m\u001b[0;34m)\u001b[0m \u001b[0;32mfor\u001b[0m \u001b[0;34m(\u001b[0m\u001b[0mk\u001b[0m\u001b[0;34m,\u001b[0m \u001b[0mv\u001b[0m\u001b[0;34m)\u001b[0m \u001b[0;32min\u001b[0m \u001b[0mnotes\u001b[0m\u001b[0;34m.\u001b[0m\u001b[0mitems\u001b[0m\u001b[0;34m(\u001b[0m\u001b[0;34m)\u001b[0m\u001b[0;34m]\u001b[0m \u001b[0;34m+\u001b[0m\u001b[0;31m \u001b[0m\u001b[0;31m\\\u001b[0m\u001b[0;34m\u001b[0m\u001b[0;34m\u001b[0m\u001b[0m\n\u001b[1;32m   1337\u001b[0m                  \u001b[0;34m[\u001b[0m\u001b[0;34m\"</html>\"\u001b[0m\u001b[0;34m]\u001b[0m\u001b[0;34m\u001b[0m\u001b[0;34m\u001b[0m\u001b[0m\n\u001b[0;32m-> 1338\u001b[0;31m         _check(\n\u001b[0m\u001b[1;32m   1339\u001b[0m             \u001b[0msbase\u001b[0m\u001b[0;34m.\u001b[0m\u001b[0msetNotes\u001b[0m\u001b[0;34m(\u001b[0m\u001b[0;34m\"\\n\"\u001b[0m\u001b[0;34m.\u001b[0m\u001b[0mjoin\u001b[0m\u001b[0;34m(\u001b[0m\u001b[0mtokens\u001b[0m\u001b[0;34m)\u001b[0m\u001b[0;34m)\u001b[0m\u001b[0;34m,\u001b[0m\u001b[0;34m\u001b[0m\u001b[0;34m\u001b[0m\u001b[0m\n\u001b[1;32m   1340\u001b[0m             \u001b[0;34m\"Setting notes on sbase: {}\"\u001b[0m\u001b[0;34m.\u001b[0m\u001b[0mformat\u001b[0m\u001b[0;34m(\u001b[0m\u001b[0msbase\u001b[0m\u001b[0;34m)\u001b[0m\u001b[0;34m\u001b[0m\u001b[0;34m\u001b[0m\u001b[0m\n",
      "\u001b[0;31mAttributeError\u001b[0m: 'list' object has no attribute 'items'"
     ]
    }
   ],
   "source": [
    "import requests\n",
    "from cobra import Model\n",
    "from cobra.io import model_from_dict\n",
    "\n",
    "resp = requests.get(\"http://bigg.ucsd.edu/static/namespace/universal_model.json\")\n",
    "resp.raise_for_status()\n",
    "\n",
    "universal = model_from_dict(resp.json())\n",
    "for reaction in universal.reactions: \n",
    "    reaction.annotation = {}\n",
    "cobra.io.write_sbml_model(universal, '/projectnb2/talbot-lab-data/metabolic_models/scripts/metabolic_model_curation/reference_data/universal_model.sbml')"
   ]
  }
 ],
 "metadata": {
  "kernelspec": {
   "display_name": "Python 3",
   "language": "python",
   "name": "python3"
  },
  "language_info": {
   "codemirror_mode": {
    "name": "ipython",
    "version": 3
   },
   "file_extension": ".py",
   "mimetype": "text/x-python",
   "name": "python",
   "nbconvert_exporter": "python",
   "pygments_lexer": "ipython3",
   "version": "3.8.10"
  }
 },
 "nbformat": 4,
 "nbformat_minor": 5
}
